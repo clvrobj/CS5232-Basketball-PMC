{
 "cells": [
  {
   "cell_type": "markdown",
   "metadata": {},
   "source": [
    "# To run this file, install Python packages: \n",
    "- requests\n",
    "- tabulate"
   ]
  },
  {
   "cell_type": "code",
   "execution_count": 5,
   "metadata": {},
   "outputs": [
    {
     "name": "stdout",
     "output_type": "stream",
     "text": [
      "{\n",
      "  \"GameId\": \"0021200795\",\n",
      "  \"Date\": \"2013-02-19\",\n",
      "  \"HomeTeamId\": \"1610612762\",\n",
      "  \"AwayTeamId\": \"1610612744\",\n",
      "  \"HomePoints\": 115,\n",
      "  \"AwayPoints\": 101,\n",
      "  \"HomePossessions\": 92,\n",
      "  \"AwayPossessions\": 93,\n",
      "  \"HomeTeamAbbreviation\": \"UTA\",\n",
      "  \"AwayTeamAbbreviation\": \"GSW\"\n",
      "}\n",
      "Extracting game stats for game: 0021200795 ...\n",
      "Done\n"
     ]
    }
   ],
   "source": [
    "import json\n",
    "import requests\n",
    "from random import randrange\n",
    "from tabulate import tabulate\n",
    "\n",
    "# Year range\n",
    "start_year = 2010\n",
    "end_year = 2020\n",
    "year = randrange(start_year, end_year)\n",
    "game_season = str(year) + \"-\" + str((year + 1) % 100).rjust(2, \"0\")\n",
    "\n",
    "# Game type\n",
    "game_types = [\"Regular Season\", \"Playoffs\"]\n",
    "game_type = game_types[randrange(len(game_types))]\n",
    "\n",
    "# Game data\n",
    "players_url = \"https://api.pbpstats.com/get-games/nba\"\n",
    "games_params = {\n",
    "    \"Season\": game_season,\n",
    "    \"SeasonType\": game_type\n",
    "}\n",
    "response = requests.get(players_url, params=games_params)\n",
    "response_json = response.json()[\"results\"]\n",
    "\n",
    "# Random a game\n",
    "game_id= randrange(len(response_json))\n",
    "game_overview = response_json[game_id]\n",
    "print(json.dumps(game_overview, indent=2))\n",
    "\n",
    "# Get game stats from the overview\n",
    "print(\"Extracting game stats for game:\", game_overview[\"GameId\"], \"...\")\n",
    "players_url = \"https://api.pbpstats.com/get-game-stats\"\n",
    "games_params = {\n",
    "    \"GameId\": game_overview[\"GameId\"],\n",
    "    \"Type\": \"Player\" # options are Player, Lineup and LineupOpponent\n",
    "}\n",
    "response = requests.get(players_url, params=games_params)\n",
    "game_stats = response.json()['stats']\n",
    "print(\"Done\")"
   ]
  },
  {
   "cell_type": "markdown",
   "metadata": {},
   "source": [
    "## Some util functions:"
   ]
  },
  {
   "cell_type": "code",
   "execution_count": 36,
   "metadata": {},
   "outputs": [],
   "source": [
    "# Stats to get\n",
    "key_general = [\"GamesPlayed\"]\n",
    "key_attack_stats = [\"Fg2Pct\", \"Fg3Pct\", \"FtPoints\", \"FTA\", \"Turnovers\", \"TotalPoss\"]\n",
    "key_defend_stats = [\"Steals\", \"Blocks\", \"Fouls\"]\n",
    "key_all_stats = key_general + key_attack_stats + key_defend_stats\n",
    "\n",
    "# Uitil functions\n",
    "def get_team_players(game_stats, team_type):\n",
    "    team = []\n",
    "    if team_type == \"Away\":\n",
    "        stats = game_stats[\"Away\"][\"FullGame\"]\n",
    "    elif team_type == \"Home\":\n",
    "        stats = game_stats[\"Home\"][\"FullGame\"]\n",
    "\n",
    "    for entity in stats:\n",
    "        if entity[\"Name\"] != \"Team\":\n",
    "            team.append([entity[\"Name\"], entity[\"Minutes\"]])\n",
    "    team.sort(key=lambda lst: lst[1], reverse=True)\n",
    "    return team\n",
    "\n",
    "\n",
    "def get_player_ids(team, team_type):\n",
    "    if team_type == \"Away\":\n",
    "        team_id = game_overview[\"AwayTeamId\"]\n",
    "    elif team_type == \"Home\":\n",
    "        team_id = game_overview[\"HomeTeamId\"]\n",
    "\n",
    "    players_url = \"https://api.pbpstats.com/get-team-players-for-season\"\n",
    "    players_params = {\n",
    "        \"Season\": game_season,\n",
    "        \"SeasonType\": game_type,\n",
    "        \"TeamId\": team_id\n",
    "    }\n",
    "    players_response = requests.get(players_url, params=players_params)\n",
    "    players = players_response.json()[\"players\"]\n",
    "\n",
    "    # \"team\" is list of list, each sub list starts with player name\n",
    "    for player in team:\n",
    "        for id, name in players.items():\n",
    "            if name == player[0]:\n",
    "                player.append(id)\n",
    "\n",
    "def get_player_stats_by_id(id):\n",
    "    url = \"https://api.pbpstats.com/get-all-season-stats/nba\"\n",
    "    params = {\n",
    "        \"EntityType\": \"Player\",\n",
    "        \"EntityId\": id\n",
    "    }\n",
    "    player_stats = requests.get(url, params=params).json()\n",
    "\n",
    "    for json_object in player_stats[\"results\"][game_type]:\n",
    "        for key, value in json_object.items():\n",
    "            if key == \"Season\" and value == game_season:\n",
    "                return json_object\n",
    "\n",
    "\n",
    "def get_team_stats(team):\n",
    "    for player in team:\n",
    "        all_stats = get_player_stats_by_id(player[2])\n",
    "        for key in key_all_stats:\n",
    "            if key in all_stats:\n",
    "                player.append(all_stats[key])\n",
    "            else:\n",
    "                player.append(None)\n",
    "        # Add player position\n",
    "        # player.append(get_player_position(player[2]))\n",
    "\n",
    "def get_player_position(player_id):\n",
    "    from nba_api.stats.endpoints import commonplayerinfo\n",
    "    player_info = commonplayerinfo.CommonPlayerInfo(player_id)\n",
    "    player_info = player_info.get_normalized_dict()\n",
    "    return player_info[\"CommonPlayerInfo\"][0][\"POSITION\"]\n",
    "\n",
    "# Print messages\n",
    "col_names = [\"Name\", \"Minutes\", \"ID\"] + key_all_stats\n",
    "def print_table(team):\n",
    "    print(tabulate(team, headers=col_names, tablefmt=\"grid\"))"
   ]
  },
  {
   "cell_type": "markdown",
   "metadata": {},
   "source": [
    "## Away team stats:"
   ]
  },
  {
   "cell_type": "code",
   "execution_count": 38,
   "metadata": {},
   "outputs": [
    {
     "name": "stdout",
     "output_type": "stream",
     "text": [
      "Away team players:\n",
      "+-------------------+-----------+--------+---------------+----------+----------+------------+-------+-------------+-------------+----------+----------+---------+\n",
      "| Name              | Minutes   |     ID |   GamesPlayed |   Fg2Pct |   Fg3Pct |   FtPoints |   FTA |   Turnovers |   TotalPoss |   Steals |   Blocks |   Fouls |\n",
      "+===================+===========+========+===============+==========+==========+============+=======+=============+=============+==========+==========+=========+\n",
      "| Stephen Curry     | 37:32     | 201939 |            78 | 0.449239 | 0.453333 |        262 |   291 |         240 |       11797 |      126 |       12 |     198 |\n",
      "+-------------------+-----------+--------+---------------+----------+----------+------------+-------+-------------+-------------+----------+----------+---------+\n",
      "| Klay Thompson     | 34:26     | 202691 |            82 | 0.437408 | 0.401141 |        132 |   157 |         157 |       11576 |       86 |       45 |     237 |\n",
      "+-------------------+-----------+--------+---------------+----------+----------+------------+-------+-------------+-------------+----------+----------+---------+\n",
      "| Jarrett Jack      | 32:42     | 101127 |            79 | 0.466361 | 0.403941 |        167 |   198 |         157 |        9232 |       60 |       11 |     134 |\n",
      "+-------------------+-----------+--------+---------------+----------+----------+------------+-------+-------------+-------------+----------+----------+---------+\n",
      "| David Lee         | 30:30     | 101135 |            79 | 0.520761 |          |        255 |   320 |         207 |       11432 |       67 |       22 |     246 |\n",
      "+-------------------+-----------+--------+---------------+----------+----------+------------+-------+-------------+-------------+----------+----------+---------+\n",
      "| Harrison Barnes   | 18:59     | 203084 |            81 | 0.463768 | 0.358621 |        144 |   190 |         101 |        8143 |       52 |       14 |     140 |\n",
      "+-------------------+-----------+--------+---------------+----------+----------+------------+-------+-------------+-------------+----------+----------+---------+\n",
      "| Carl Landry       | 18:11     | 201171 |            81 | 0.540902 | 0.333333 |        223 |   273 |         115 |        7335 |       35 |       31 |     190 |\n",
      "+-------------------+-----------+--------+---------------+----------+----------+------------+-------+-------------+-------------+----------+----------+---------+\n",
      "| Andris Biedrins   | 15:49     |   2740 |            53 | 0.47619  |          |          4 |    13 |          14 |        1942 |       15 |       42 |     101 |\n",
      "+-------------------+-----------+--------+---------------+----------+----------+------------+-------+-------------+-------------+----------+----------+---------+\n",
      "| Draymond Green    | 15:13     | 203110 |            79 | 0.368421 | 0.208955 |         45 |    55 |          51 |        4224 |       42 |       25 |     159 |\n",
      "+-------------------+-----------+--------+---------------+----------+----------+------------+-------+-------------+-------------+----------+----------+---------+\n",
      "| Andrew Bogut      | 15:04     | 101106 |            32 | 0.448087 | 1        |         19 |    38 |          35 |        3084 |       20 |       55 |      85 |\n",
      "+-------------------+-----------+--------+---------------+----------+----------+------------+-------+-------------+-------------+----------+----------+---------+\n",
      "| Richard Jefferson | 07:49     |   2210 |            56 | 0.527473 | 0.311111 |         38 |    53 |          23 |        2238 |       14 |        7 |      45 |\n",
      "+-------------------+-----------+--------+---------------+----------+----------+------------+-------+-------------+-------------+----------+----------+---------+\n",
      "| Festus Ezeli      | 07:42     | 203105 |            78 | 0.43787  |          |         43 |    81 |          63 |        4353 |       23 |       74 |     157 |\n",
      "+-------------------+-----------+--------+---------------+----------+----------+------------+-------+-------------+-------------+----------+----------+---------+\n",
      "| Kent Bazemore     | 03:36     | 203145 |            61 | 0.402439 | 0.294118 |         27 |    44 |          18 |        1104 |       17 |        4 |      27 |\n",
      "+-------------------+-----------+--------+---------------+----------+----------+------------+-------+-------------+-------------+----------+----------+---------+\n",
      "| Charles Jenkins   | 02:27     | 202724 |            47 | 0.419753 | 0.5      |         10 |    18 |          19 |        1179 |        9 |        1 |      18 |\n",
      "+-------------------+-----------+--------+---------------+----------+----------+------------+-------+-------------+-------------+----------+----------+---------+\n"
     ]
    }
   ],
   "source": [
    "# Away team stats\n",
    "print(\"Away team players:\")\n",
    "away_team_players_data = {}\n",
    "away_team = get_team_players(game_stats, \"Away\")\n",
    "get_player_ids(away_team, \"Away\")\n",
    "get_team_stats(away_team)\n",
    "print_table(away_team)"
   ]
  },
  {
   "cell_type": "markdown",
   "metadata": {},
   "source": [
    "## Home team stats:"
   ]
  },
  {
   "cell_type": "code",
   "execution_count": 8,
   "metadata": {},
   "outputs": [
    {
     "name": "stdout",
     "output_type": "stream",
     "text": [
      "Home team players:\n",
      "+-----------------+-----------+--------+---------------+----------+----------+------------+-------+-------------+--------------------+----------+----------+---------+\n",
      "| Name            | Minutes   |     ID |   GamesPlayed |   Fg2Pct |   Fg3Pct |   FtPoints |   FTA |   Turnovers |   BadPassTurnovers |   Steals |   Blocks |   Fouls |\n",
      "+=================+===========+========+===============+==========+==========+============+=======+=============+====================+==========+==========+=========+\n",
      "| Al Jefferson    | 31:34     |   2744 |            78 | 0.49959  | 0.117647 |        167 |   217 |         105 |                 31 |       80 |       89 |     170 |\n",
      "+-----------------+-----------+--------+---------------+----------+----------+------------+-------+-------------+--------------------+----------+----------+---------+\n",
      "| Paul Millsap    | 30:31     | 200794 |            78 | 0.497608 | 0.333333 |        264 |   355 |         139 |                 38 |      102 |       80 |     232 |\n",
      "+-----------------+-----------+--------+---------------+----------+----------+------------+-------+-------------+--------------------+----------+----------+---------+\n",
      "| Randy Foye      | 29:17     | 200751 |            82 | 0.378289 | 0.410138 |        118 |   144 |          92 |                 30 |       66 |       27 |     190 |\n",
      "+-----------------+-----------+--------+---------------+----------+----------+------------+-------+-------------+--------------------+----------+----------+---------+\n",
      "| Alec Burks      | 25:14     | 202692 |            64 | 0.439189 | 0.358696 |         92 |   129 |          74 |                 25 |       35 |       13 |     114 |\n",
      "+-----------------+-----------+--------+---------------+----------+----------+------------+-------+-------------+--------------------+----------+----------+---------+\n",
      "| Gordon Hayward  | 24:32     | 202330 |            72 | 0.444023 | 0.414634 |        243 |   294 |         120 |                 33 |       58 |       38 |     125 |\n",
      "+-----------------+-----------+--------+---------------+----------+----------+------------+-------+-------------+--------------------+----------+----------+---------+\n",
      "| Earl Watson     | 22:58     |   2248 |            48 | 0.347826 | 0.178571 |         17 |    25 |          69 |                 38 |       40 |        8 |      94 |\n",
      "+-----------------+-----------+--------+---------------+----------+----------+------------+-------+-------------+--------------------+----------+----------+---------+\n",
      "| Derrick Favors  | 21:07     | 202324 |            77 | 0.486679 |          |        179 |   260 |         129 |                 29 |       67 |      130 |     247 |\n",
      "+-----------------+-----------+--------+---------------+----------+----------+------------+-------+-------------+--------------------+----------+----------+---------+\n",
      "| Marvin Williams | 20:25     | 101107 |            73 | 0.476974 | 0.325301 |         77 |    99 |          60 |                 19 |       37 |       38 |      98 |\n",
      "+-----------------+-----------+--------+---------------+----------+----------+------------+-------+-------------+--------------------+----------+----------+---------+\n",
      "| Jamaal Tinsley  | 18:40     |   2224 |            66 | 0.439252 | 0.307087 |         18 |    26 |         106 |                 57 |       64 |       14 |     106 |\n",
      "+-----------------+-----------+--------+---------------+----------+----------+------------+-------+-------------+--------------------+----------+----------+---------+\n",
      "| Enes Kanter     | 11:21     | 202683 |            70 | 0.542328 | 1        |         93 |   117 |         101 |                 16 |       28 |       32 |     116 |\n",
      "+-----------------+-----------+--------+---------------+----------+----------+------------+-------+-------------+--------------------+----------+----------+---------+\n",
      "| DeMarre Carroll | 01:27     | 201960 |            66 | 0.507874 | 0.285714 |         75 |    98 |          34 |                 16 |       58 |       24 |     119 |\n",
      "+-----------------+-----------+--------+---------------+----------+----------+------------+-------+-------------+--------------------+----------+----------+---------+\n",
      "| Jeremy Evans    | 01:27     | 202379 |            37 | 0.627907 |          |         21 |    33 |           8 |                  2 |        8 |       13 |      30 |\n",
      "+-----------------+-----------+--------+---------------+----------+----------+------------+-------+-------------+--------------------+----------+----------+---------+\n",
      "| Kevin Murphy    | 01:27     | 203122 |            17 | 0.26087  | 0.2      |            |       |           3 |                  1 |        1 |          |       4 |\n",
      "+-----------------+-----------+--------+---------------+----------+----------+------------+-------+-------------+--------------------+----------+----------+---------+\n"
     ]
    }
   ],
   "source": [
    "# Home team stats\n",
    "print(\"Home team players:\")\n",
    "home_team = get_team_players(game_stats, \"Home\")\n",
    "get_player_ids(home_team, \"Home\")\n",
    "get_team_stats(home_team)\n",
    "print_table(home_team)"
   ]
  },
  {
   "cell_type": "markdown",
   "metadata": {},
   "source": [
    "## Aggregate and export the key stats to CSV"
   ]
  },
  {
   "cell_type": "code",
   "execution_count": 41,
   "metadata": {},
   "outputs": [
    {
     "name": "stdout",
     "output_type": "stream",
     "text": [
      "Top 5 players:\n",
      "+-----------------+-----------+--------+---------------+----------+----------+------------+-------+-------------+-------------+----------+----------+---------+----------------+--------------------+\n",
      "| Name            | Minutes   |     ID |   GamesPlayed |   Fg2Pct |   Fg3Pct |   FtPoints |   FTA |   Turnovers |   TotalPoss |   Steals |   Blocks |   Fouls | Position       |   TurnoversPerPoss |\n",
      "+=================+===========+========+===============+==========+==========+============+=======+=============+=============+==========+==========+=========+================+====================+\n",
      "| Stephen Curry   | 37:32     | 201939 |            78 | 0.449239 | 0.453333 |        262 |   291 |         240 |       11797 |      126 |       12 |     198 | Guard          |          0.0203442 |\n",
      "+-----------------+-----------+--------+---------------+----------+----------+------------+-------+-------------+-------------+----------+----------+---------+----------------+--------------------+\n",
      "| Klay Thompson   | 34:26     | 202691 |            82 | 0.437408 | 0.401141 |        132 |   157 |         157 |       11576 |       86 |       45 |     237 | Guard          |          0.0135625 |\n",
      "+-----------------+-----------+--------+---------------+----------+----------+------------+-------+-------------+-------------+----------+----------+---------+----------------+--------------------+\n",
      "| Jarrett Jack    | 32:42     | 101127 |            79 | 0.466361 | 0.403941 |        167 |   198 |         157 |        9232 |       60 |       11 |     134 | Guard          |          0.0170061 |\n",
      "+-----------------+-----------+--------+---------------+----------+----------+------------+-------+-------------+-------------+----------+----------+---------+----------------+--------------------+\n",
      "| David Lee       | 30:30     | 101135 |            79 | 0.520761 |          |        255 |   320 |         207 |       11432 |       67 |       22 |     246 | Forward-Center |          0.0181071 |\n",
      "+-----------------+-----------+--------+---------------+----------+----------+------------+-------+-------------+-------------+----------+----------+---------+----------------+--------------------+\n",
      "| Harrison Barnes | 18:59     | 203084 |            81 | 0.463768 | 0.358621 |        144 |   190 |         101 |        8143 |       52 |       14 |     140 | Forward        |          0.0124033 |\n",
      "+-----------------+-----------+--------+---------------+----------+----------+------------+-------+-------------+-------------+----------+----------+---------+----------------+--------------------+\n"
     ]
    }
   ],
   "source": [
    "# Get the top 5 players key stats\n",
    "away_team_stats = get_team_players(game_stats, \"Away\")\n",
    "get_player_ids(away_team_stats, \"Away\")\n",
    "get_team_stats(away_team_stats)\n",
    "col_names = [\"Name\", \"Minutes\", \"ID\"] + key_all_stats\n",
    "# Convert the away_team_stats to a list of players which is a dictionary with the cols as keys\n",
    "away_team_stats = [{col_names[i]: player[i] for i in range(len(col_names))} for player in away_team_stats]\n",
    "# Add the player position to the dictionary\n",
    "for player in away_team_stats:\n",
    "    player[\"Position\"] = get_player_position(player[\"ID\"])\n",
    "# Add the pass success rate which is the opposite of turnovers per possession to the dictionary\n",
    "for player in away_team_stats:\n",
    "    player[\"PassRatio\"] = 1 - player[\"Turnovers\"] / player[\"TotalPoss\"]\n",
    "\n",
    "# Print the top 5 players\n",
    "print(\"Top 5 players:\")\n",
    "print(tabulate(away_team_stats[:5], headers=\"keys\", tablefmt=\"grid\"))"
   ]
  },
  {
   "cell_type": "code",
   "execution_count": null,
   "metadata": {},
   "outputs": [],
   "source": []
  }
 ],
 "metadata": {
  "kernelspec": {
   "display_name": "Python 3",
   "language": "python",
   "name": "python3"
  },
  "language_info": {
   "codemirror_mode": {
    "name": "ipython",
    "version": 3
   },
   "file_extension": ".py",
   "mimetype": "text/x-python",
   "name": "python",
   "nbconvert_exporter": "python",
   "pygments_lexer": "ipython3",
   "version": "3.10.13"
  }
 },
 "nbformat": 4,
 "nbformat_minor": 2
}
