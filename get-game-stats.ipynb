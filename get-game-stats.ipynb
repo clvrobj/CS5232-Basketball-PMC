{
 "cells": [
  {
   "cell_type": "markdown",
   "metadata": {},
   "source": [
    "## To run this file, install Python packages: \n",
    "- requests\n",
    "- tabulate"
   ]
  },
  {
   "cell_type": "code",
   "execution_count": 1,
   "metadata": {
    "metadata": {}
   },
   "outputs": [
    {
     "name": "stdout",
     "output_type": "stream",
     "text": [
      "{\n",
      "  \"GameId\": \"0041800205\",\n",
      "  \"Date\": \"2019-05-08\",\n",
      "  \"HomeTeamId\": \"1610612749\",\n",
      "  \"AwayTeamId\": \"1610612738\",\n",
      "  \"HomePoints\": 116,\n",
      "  \"AwayPoints\": 91,\n",
      "  \"HomePossessions\": 107,\n",
      "  \"AwayPossessions\": 106,\n",
      "  \"HomeTeamAbbreviation\": \"MIL\",\n",
      "  \"AwayTeamAbbreviation\": \"BOS\"\n",
      "}\n",
      "Extracting game stats for game: 0041800205 ...\n",
      "Done\n"
     ]
    }
   ],
   "source": [
    "import json\n",
    "import requests\n",
    "from random import randrange\n",
    "from tabulate import tabulate\n",
    "\n",
    "# Year range\n",
    "start_year = 2010\n",
    "end_year = 2020\n",
    "year = randrange(start_year, end_year)\n",
    "game_season = str(year) + \"-\" + str((year + 1) % 100).rjust(2, \"0\")\n",
    "\n",
    "# Game type\n",
    "game_types = [\"Regular Season\", \"Playoffs\"]\n",
    "game_type = game_types[randrange(len(game_types))]\n",
    "\n",
    "# Game data\n",
    "players_url = \"https://api.pbpstats.com/get-games/nba\"\n",
    "games_params = {\n",
    "    \"Season\": game_season,\n",
    "    \"SeasonType\": game_type\n",
    "}\n",
    "response = requests.get(players_url, params=games_params)\n",
    "response_json = response.json()[\"results\"]\n",
    "\n",
    "# Random a game\n",
    "game_id= randrange(len(response_json))\n",
    "game_overview = response_json[game_id]\n",
    "print(json.dumps(game_overview, indent=2))\n",
    "\n",
    "# Get game stats from the overview\n",
    "print(\"Extracting game stats for game:\", game_overview[\"GameId\"], \"...\")\n",
    "players_url = \"https://api.pbpstats.com/get-game-stats\"\n",
    "games_params = {\n",
    "    \"GameId\": game_overview[\"GameId\"],\n",
    "    \"Type\": \"Player\" # options are Player, Lineup and LineupOpponent\n",
    "}\n",
    "response = requests.get(players_url, params=games_params)\n",
    "game_stats = response.json()['stats']\n",
    "print(\"Done\")"
   ]
  },
  {
   "cell_type": "markdown",
   "metadata": {},
   "source": [
    "### Some util functions:"
   ]
  },
  {
   "cell_type": "code",
   "execution_count": 2,
   "metadata": {
    "metadata": {}
   },
   "outputs": [],
   "source": [
    "# Stats to get\n",
    "key_general = [\"GamesPlayed\"]\n",
    "key_attack_stats = [\"EfgPct\", \"Fg3Pct\", \"FtPoints\", \"FTA\", \"Turnovers\", \"TotalPoss\"]\n",
    "key_defend_stats = [\"Steals\", \"Blocks\", \"Fouls\"]\n",
    "key_all_stats = key_general + key_attack_stats + key_defend_stats\n",
    "\n",
    "# Uitil functions\n",
    "def get_team_players(game_stats, team_type):\n",
    "    team = []\n",
    "    if team_type == \"Away\":\n",
    "        stats = game_stats[\"Away\"][\"FullGame\"]\n",
    "    elif team_type == \"Home\":\n",
    "        stats = game_stats[\"Home\"][\"FullGame\"]\n",
    "\n",
    "    for entity in stats:\n",
    "        if entity[\"Name\"] != \"Team\":\n",
    "            team.append([entity[\"Name\"], entity[\"Minutes\"]])\n",
    "    team.sort(key=lambda lst: lst[1], reverse=True)\n",
    "    return team\n",
    "\n",
    "\n",
    "def get_player_ids(team, team_type):\n",
    "    if team_type == \"Away\":\n",
    "        team_id = game_overview[\"AwayTeamId\"]\n",
    "    elif team_type == \"Home\":\n",
    "        team_id = game_overview[\"HomeTeamId\"]\n",
    "\n",
    "    players_url = \"https://api.pbpstats.com/get-team-players-for-season\"\n",
    "    players_params = {\n",
    "        \"Season\": game_season,\n",
    "        \"SeasonType\": game_type,\n",
    "        \"TeamId\": team_id\n",
    "    }\n",
    "    players_response = requests.get(players_url, params=players_params)\n",
    "    players = players_response.json()[\"players\"]\n",
    "\n",
    "    # \"team\" is list of list, each sub list starts with player name\n",
    "    for player in team:\n",
    "        for id, name in players.items():\n",
    "            if name == player[0]:\n",
    "                player.append(id)\n",
    "\n",
    "def get_player_stats_by_id(id):\n",
    "    url = \"https://api.pbpstats.com/get-all-season-stats/nba\"\n",
    "    params = {\n",
    "        \"EntityType\": \"Player\",\n",
    "        \"EntityId\": id\n",
    "    }\n",
    "    player_stats = requests.get(url, params=params).json()\n",
    "\n",
    "    for json_object in player_stats[\"results\"][game_type]:\n",
    "        for key, value in json_object.items():\n",
    "            if key == \"Season\" and value == game_season:\n",
    "                return json_object\n",
    "\n",
    "\n",
    "def get_team_stats(team):\n",
    "    for player in team:\n",
    "        all_stats = get_player_stats_by_id(player[2])\n",
    "        for key in key_all_stats:\n",
    "            if key in all_stats:\n",
    "                player.append(all_stats[key])\n",
    "            else:\n",
    "                player.append(None)\n",
    "        # Add player position\n",
    "        # player.append(get_player_position(player[2]))\n",
    "\n",
    "def get_player_position(player_id):\n",
    "    from nba_api.stats.endpoints import commonplayerinfo\n",
    "    player_info = commonplayerinfo.CommonPlayerInfo(player_id)\n",
    "    player_info = player_info.get_normalized_dict()\n",
    "    # Map the position to 5 short terms: PG, SG, SF, PF, C\n",
    "    position_map = {\n",
    "        \"\" : \"PG\", # Default to \"PG\"\n",
    "        \"Guard\": \"PG\",\n",
    "        \"Point-Guard\": \"PG\",\n",
    "        \"Shooting-Guard\": \"SG\",\n",
    "        \"Forward-Guard\": \"SG\",\n",
    "        \"Forward\": \"SF\",\n",
    "        \"Guard-Forward\": \"SF\",\n",
    "        \"Small-Forward\": \"SF\",\n",
    "        \"Power-Forward\": \"PF\",\n",
    "        \"Center-Forward\": \"PF\",\n",
    "        \"Center\": \"C\",\n",
    "        \"Forward-Center\": \"C\",\n",
    "    }\n",
    "    return position_map[player_info[\"CommonPlayerInfo\"][0][\"POSITION\"]]\n",
    "\n",
    "# Print messages\n",
    "col_names = [\"Name\", \"Minutes\", \"ID\"] + key_all_stats\n",
    "def print_table(team):\n",
    "    print(tabulate(team, headers=col_names, tablefmt=\"grid\"))"
   ]
  },
  {
   "cell_type": "markdown",
   "metadata": {},
   "source": [
    "## Export origin game results"
   ]
  },
  {
   "cell_type": "code",
   "execution_count": 3,
   "metadata": {
    "metadata": {}
   },
   "outputs": [
    {
     "name": "stdout",
     "output_type": "stream",
     "text": [
      "Empty file, Writing the header to the file\n",
      "Writing the game to the file\n"
     ]
    }
   ],
   "source": [
    "# Export the game result to the CSV file\n",
    "import csv\n",
    "\n",
    "with open(\"data/game_origin_results.csv\", \"w\", newline=\"\") as file:\n",
    "    writer = csv.writer(file)\n",
    "    # check if the file is empty\n",
    "    if file.tell() == 0:\n",
    "        print(\"Empty file, Writing the header to the file\")\n",
    "        writer.writerow([\"game_id\", \n",
    "                        \"home_id\", \n",
    "                        \"away_id\", \n",
    "                        \"home_abbr\", \n",
    "                        \"away_abbr\", \n",
    "                        \"home_points\", \n",
    "                        \"away_points\"])\n",
    "\n",
    "\n",
    "# Check if the game is already in the file by the game ID\n",
    "with open(\"data/game_origin_results.csv\", \"r\") as file:\n",
    "    reader = csv.reader(file)\n",
    "    for row in reader:\n",
    "        if row[0] == game_overview[\"GameId\"]:\n",
    "            print(\"The game is already in the file\")\n",
    "            break\n",
    "    else:\n",
    "        print(\"Writing the game to the file\")\n",
    "        with open(\"data/game_origin_results.csv\", \"a\", newline=\"\") as file:\n",
    "            writer = csv.writer(file)\n",
    "            writer.writerow([game_overview[\"GameId\"],\n",
    "                            game_overview[\"HomeTeamId\"],\n",
    "                            game_overview[\"AwayTeamId\"],\n",
    "                            game_overview[\"HomeTeamAbbreviation\"],\n",
    "                            game_overview[\"AwayTeamAbbreviation\"],\n",
    "                            game_overview[\"HomePoints\"],\n",
    "                            game_overview[\"AwayPoints\"]])\n",
    "                \n"
   ]
  },
  {
   "cell_type": "markdown",
   "metadata": {},
   "source": [
    "## Away team stats:"
   ]
  },
  {
   "cell_type": "code",
   "execution_count": 4,
   "metadata": {
    "metadata": {}
   },
   "outputs": [],
   "source": [
    "# # Away team stats\n",
    "# print(\"Away team players:\")\n",
    "# away_team_players_data = {}\n",
    "# away_team = get_team_players(game_stats, \"Away\")\n",
    "# get_player_ids(away_team, \"Away\")\n",
    "# get_team_stats(away_team)\n",
    "# print_table(away_team)"
   ]
  },
  {
   "cell_type": "markdown",
   "metadata": {},
   "source": [
    "## Home team stats:"
   ]
  },
  {
   "cell_type": "code",
   "execution_count": 5,
   "metadata": {
    "metadata": {}
   },
   "outputs": [],
   "source": [
    "# # Home team stats\n",
    "# print(\"Home team players:\")\n",
    "# home_team = get_team_players(game_stats, \"Home\")\n",
    "# get_player_ids(home_team, \"Home\")\n",
    "# get_team_stats(home_team)\n",
    "# print_table(home_team)"
   ]
  },
  {
   "cell_type": "markdown",
   "metadata": {},
   "source": [
    "## Aggregate and export the both teams players key stats to CSV"
   ]
  },
  {
   "cell_type": "code",
   "execution_count": 6,
   "metadata": {
    "metadata": {}
   },
   "outputs": [
    {
     "name": "stdout",
     "output_type": "stream",
     "text": [
      "+-----------------------+-----------+---------+---------------+----------+----------+------------+-------+-------------+-------------+----------+----------+---------+------------+-------------+\n",
      "| Name                  | Minutes   |      ID |   GamesPlayed |   EfgPct |   Fg3Pct |   FtPoints |   FTA |   Turnovers |   TotalPoss |   Steals |   Blocks |   Fouls | Position   |   PassRatio |\n",
      "+=======================+===========+=========+===============+==========+==========+============+=======+=============+=============+==========+==========+=========+============+=============+\n",
      "| Khris Middleton       | 34:17     |  203114 |            15 | 0.517413 | 0.434783 |         46 |    52 |          29 |        2124 |        9 |          |      44 | SF         |    0.986347 |\n",
      "+-----------------------+-----------+---------+---------------+----------+----------+------------+-------+-------------+-------------+----------+----------+---------+------------+-------------+\n",
      "| Giannis Antetokounmpo | 31:07     |  203507 |            15 | 0.528736 | 0.327273 |        107 |   168 |          50 |        2127 |       18 |       30 |      48 | SF         |    0.976493 |\n",
      "+-----------------------+-----------+---------+---------------+----------+----------+------------+-------+-------------+-------------+----------+----------+---------+------------+-------------+\n",
      "| Eric Bledsoe          | 28:26     |  202339 |            15 | 0.456757 | 0.236111 |         36 |    51 |          32 |        1760 |       16 |        6 |      28 | PG         |    0.981818 |\n",
      "+-----------------------+-----------+---------+---------------+----------+----------+------------+-------+-------------+-------------+----------+----------+---------+------------+-------------+\n",
      "| Pat Connaughton       | 27:44     | 1626192 |            15 | 0.577922 | 0.357143 |          4 |     8 |           9 |        1371 |        6 |       13 |      14 | PG         |    0.993435 |\n",
      "+-----------------------+-----------+---------+---------------+----------+----------+------------+-------+-------------+-------------+----------+----------+---------+------------+-------------+\n",
      "| Nikola Mirotic        | 27:35     |  202703 |            14 | 0.470085 | 0.289474 |         23 |    28 |          14 |        1241 |       10 |        3 |      25 | SF         |    0.988719 |\n",
      "+-----------------------+-----------+---------+---------------+----------+----------+------------+-------+-------------+-------------+----------+----------+---------+------------+-------------+\n",
      "| Ersan Ilyasova        | 25:12     |  101141 |            15 | 0.506173 | 0.3      |         20 |    25 |           7 |        1125 |       10 |        6 |      40 | SF         |    0.993778 |\n",
      "+-----------------------+-----------+---------+---------------+----------+----------+------------+-------+-------------+-------------+----------+----------+---------+------------+-------------+\n",
      "| George Hill           | 21:18     |  201588 |            15 | 0.618644 | 0.416667 |         27 |    33 |           6 |        1599 |       12 |        4 |      34 | PG         |    0.996248 |\n",
      "+-----------------------+-----------+---------+---------------+----------+----------+------------+-------+-------------+-------------+----------+----------+---------+------------+-------------+\n",
      "| Brook Lopez           | 17:55     |  201572 |            15 | 0.537313 | 0.293333 |         24 |    29 |          10 |        1793 |        6 |       28 |      46 | C          |    0.994423 |\n",
      "+-----------------------+-----------+---------+---------------+----------+----------+------------+-------+-------------+-------------+----------+----------+---------+------------+-------------+\n",
      "| Malcolm Brogdon       | 16:33     | 1627763 |             7 | 0.538462 | 0.378378 |          7 |    11 |          10 |         796 |        5 |        1 |      16 | PG         |    0.987437 |\n",
      "+-----------------------+-----------+---------+---------------+----------+----------+------------+-------+-------------+-------------+----------+----------+---------+------------+-------------+\n",
      "| Sterling Brown        | 04:01     | 1628425 |            11 | 0.486842 | 0.333333 |          8 |    11 |           8 |         682 |        6 |        3 |      17 | SF         |    0.98827  |\n",
      "+-----------------------+-----------+---------+---------------+----------+----------+------------+-------+-------------+-------------+----------+----------+---------+------------+-------------+\n",
      "| Tim Frazier           | 04:01     |  204025 |            11 | 0.730769 | 0.5      |          2 |     2 |           3 |         183 |        1 |          |       5 | PG         |    0.983607 |\n",
      "+-----------------------+-----------+---------+---------------+----------+----------+------------+-------+-------------+-------------+----------+----------+---------+------------+-------------+\n",
      "| Tony Snell            | 01:51     |  203503 |             9 | 0.416667 | 0.5      |            |       |           1 |         134 |        1 |        1 |       3 | PG         |    0.992537 |\n",
      "+-----------------------+-----------+---------+---------------+----------+----------+------------+-------+-------------+-------------+----------+----------+---------+------------+-------------+\n",
      "The lineup of the Home team:\n",
      "PG: {'Name': 'Eric Bledsoe', 'Minutes': '28:26', 'ID': '202339', 'GamesPlayed': 15, 'EfgPct': 0.45675675675675675, 'Fg3Pct': 0.2361111111111111, 'FtPoints': 36, 'FTA': 51, 'Turnovers': 32, 'TotalPoss': 1760, 'Steals': 16, 'Blocks': 6, 'Fouls': 28, 'Position': 'PG', 'PassRatio': 0.9818181818181818}\n",
      "SG: {'Name': 'Giannis Antetokounmpo', 'Minutes': '31:07', 'ID': '203507', 'GamesPlayed': 15, 'EfgPct': 0.5287356321839081, 'Fg3Pct': 0.32727272727272727, 'FtPoints': 107, 'FTA': 168, 'Turnovers': 50, 'TotalPoss': 2127, 'Steals': 18, 'Blocks': 30, 'Fouls': 48, 'Position': 'SF', 'PassRatio': 0.9764927127409497}\n",
      "SF: {'Name': 'Khris Middleton', 'Minutes': '34:17', 'ID': '203114', 'GamesPlayed': 15, 'EfgPct': 0.5174129353233831, 'Fg3Pct': 0.43478260869565216, 'FtPoints': 46, 'FTA': 52, 'Turnovers': 29, 'TotalPoss': 2124, 'Steals': 9, 'Blocks': None, 'Fouls': 44, 'Position': 'SF', 'PassRatio': 0.986346516007533}\n",
      "PF: {'Name': 'Pat Connaughton', 'Minutes': '27:44', 'ID': '1626192', 'GamesPlayed': 15, 'EfgPct': 0.577922077922078, 'Fg3Pct': 0.35714285714285715, 'FtPoints': 4, 'FTA': 8, 'Turnovers': 9, 'TotalPoss': 1371, 'Steals': 6, 'Blocks': 13, 'Fouls': 14, 'Position': 'PG', 'PassRatio': 0.9934354485776805}\n",
      "C: {'Name': 'Brook Lopez', 'Minutes': '17:55', 'ID': '201572', 'GamesPlayed': 15, 'EfgPct': 0.5373134328358209, 'Fg3Pct': 0.29333333333333333, 'FtPoints': 24, 'FTA': 29, 'Turnovers': 10, 'TotalPoss': 1793, 'Steals': 6, 'Blocks': 28, 'Fouls': 46, 'Position': 'C', 'PassRatio': 0.9944227551589515}\n"
     ]
    },
    {
     "ename": "KeyError",
     "evalue": "'Fg2Pct'",
     "output_type": "error",
     "traceback": [
      "\u001b[1;31m---------------------------------------------------------------------------\u001b[0m",
      "\u001b[1;31mKeyError\u001b[0m                                  Traceback (most recent call last)",
      "Cell \u001b[1;32mIn[6], line 59\u001b[0m\n\u001b[0;32m     55\u001b[0m             writer\u001b[38;5;241m.\u001b[39mwriterow([position, player[\u001b[38;5;124m\"\u001b[39m\u001b[38;5;124mPassRatio\u001b[39m\u001b[38;5;124m\"\u001b[39m], player[\u001b[38;5;124m\"\u001b[39m\u001b[38;5;124mFg2Pct\u001b[39m\u001b[38;5;124m\"\u001b[39m], player[\u001b[38;5;124m\"\u001b[39m\u001b[38;5;124mID\u001b[39m\u001b[38;5;124m\"\u001b[39m], player[\u001b[38;5;124m\"\u001b[39m\u001b[38;5;124mName\u001b[39m\u001b[38;5;124m\"\u001b[39m]])\n\u001b[0;32m     57\u001b[0m     \u001b[38;5;28;01mreturn\u001b[39;00m lineup\n\u001b[1;32m---> 59\u001b[0m \u001b[43mexport_lineup\u001b[49m\u001b[43m(\u001b[49m\u001b[43mgame_stats\u001b[49m\u001b[43m,\u001b[49m\u001b[43m \u001b[49m\u001b[43mis_home\u001b[49m\u001b[38;5;241;43m=\u001b[39;49m\u001b[38;5;28;43;01mTrue\u001b[39;49;00m\u001b[43m)\u001b[49m\n\u001b[0;32m     60\u001b[0m export_lineup(game_stats, is_home\u001b[38;5;241m=\u001b[39m\u001b[38;5;28;01mFalse\u001b[39;00m)\n",
      "Cell \u001b[1;32mIn[6], line 55\u001b[0m, in \u001b[0;36mexport_lineup\u001b[1;34m(game_stats, is_home)\u001b[0m\n\u001b[0;32m     53\u001b[0m     \u001b[38;5;28;01mfor\u001b[39;00m position \u001b[38;5;129;01min\u001b[39;00m lineup:\n\u001b[0;32m     54\u001b[0m         player \u001b[38;5;241m=\u001b[39m lineup[position]\n\u001b[1;32m---> 55\u001b[0m         writer\u001b[38;5;241m.\u001b[39mwriterow([position, player[\u001b[38;5;124m\"\u001b[39m\u001b[38;5;124mPassRatio\u001b[39m\u001b[38;5;124m\"\u001b[39m], \u001b[43mplayer\u001b[49m\u001b[43m[\u001b[49m\u001b[38;5;124;43m\"\u001b[39;49m\u001b[38;5;124;43mFg2Pct\u001b[39;49m\u001b[38;5;124;43m\"\u001b[39;49m\u001b[43m]\u001b[49m, player[\u001b[38;5;124m\"\u001b[39m\u001b[38;5;124mID\u001b[39m\u001b[38;5;124m\"\u001b[39m], player[\u001b[38;5;124m\"\u001b[39m\u001b[38;5;124mName\u001b[39m\u001b[38;5;124m\"\u001b[39m]])\n\u001b[0;32m     57\u001b[0m \u001b[38;5;28;01mreturn\u001b[39;00m lineup\n",
      "\u001b[1;31mKeyError\u001b[0m: 'Fg2Pct'"
     ]
    }
   ],
   "source": [
    "import csv\n",
    "\n",
    "# Get the lineup players key stats\n",
    "def export_lineup(game_stats, is_home):\n",
    "    team_type = \"Home\" if is_home else \"Away\"\n",
    "    team_stats = get_team_players(game_stats, team_type)\n",
    "    get_player_ids(team_stats, team_type)\n",
    "    get_team_stats(team_stats)\n",
    "    col_names = [\"Name\", \"Minutes\", \"ID\"] + key_all_stats\n",
    "    team_stats = [{col_names[i]: player[i] for i in range(len(col_names))} for player in team_stats]\n",
    "    \n",
    "    for player in team_stats:\n",
    "        player[\"Position\"] = get_player_position(player[\"ID\"])\n",
    "        # Calculate the PassRatio\n",
    "        # If Turnovers or TotalPoss is None, then use the average value of the team\n",
    "        if player[\"Turnovers\"] is None or player[\"TotalPoss\"] is None:\n",
    "            team_turnovers = [player[\"Turnovers\"] for player in team_stats if player[\"Turnovers\"] is not None]\n",
    "            team_total_poss = [player[\"TotalPoss\"] for player in team_stats if player[\"TotalPoss\"] is not None]\n",
    "            player[\"Turnovers\"] = sum(team_turnovers) / len(team_turnovers)\n",
    "            player[\"TotalPoss\"] = sum(team_total_poss) / len(team_total_poss)\n",
    "        player[\"PassRatio\"] = 1 - player[\"Turnovers\"] / player[\"TotalPoss\"]\n",
    "\n",
    "    print(tabulate(team_stats[:], headers=\"keys\", tablefmt=\"grid\"))\n",
    "\n",
    "    positions = [\"PG\", \"SG\", \"SF\", \"PF\", \"C\"]\n",
    "    lineup = {}\n",
    "    lineup_ids = []\n",
    "    for position in positions:\n",
    "        lineup[position] = None\n",
    "    for player in team_stats:\n",
    "        if lineup[player[\"Position\"]] is None and player[\"Position\"] in positions:\n",
    "            lineup[player[\"Position\"]] = player\n",
    "            lineup_ids.append(player[\"ID\"])\n",
    "\n",
    "    for position in lineup:\n",
    "        if lineup[position] is None:\n",
    "            for player in team_stats:\n",
    "                if player['ID'] not in lineup_ids:\n",
    "                    lineup[position] = player\n",
    "                    lineup_ids.append(player[\"ID\"])\n",
    "                    break\n",
    "\n",
    "    print(f\"The lineup of the {team_type} team:\")\n",
    "    for position in lineup:\n",
    "        print(position + \":\", lineup[position])\n",
    "\n",
    "    # Export the lineup to a CSV file\n",
    "    # The columns include position, PassRatio, Fg2Pct, ID, name\n",
    "    LINEUP_FILE = f\"data/lineup_{team_type.lower()}_{game_overview['GameId']}.csv\"\n",
    "    with open(LINEUP_FILE, mode=\"w\") as file:\n",
    "        writer = csv.writer(file)\n",
    "        writer.writerow([\"Position\", \"PassRatio\", \"EfgPct\", \"ID\", \"Name\"])\n",
    "        for position in lineup:\n",
    "            player = lineup[position]\n",
    "            writer.writerow([position, player[\"PassRatio\"], player[\"EfgPct\"], player[\"ID\"], player[\"Name\"]])\n",
    "    \n",
    "    return lineup\n",
    "\n",
    "export_lineup(game_stats, is_home=True)\n",
    "export_lineup(game_stats, is_home=False)\n",
    "\n"
   ]
  },
  {
   "cell_type": "markdown",
   "metadata": {},
   "source": [
    "## Generate new PAT PCSP files for the game\n"
   ]
  },
  {
   "cell_type": "code",
   "execution_count": null,
   "metadata": {
    "metadata": {}
   },
   "outputs": [],
   "source": [
    "# Read the lineup from the CSV file\n",
    "def read_lineup(team_type):\n",
    "    LINEUP_FILE = f\"data/lineup_{team_type.lower()}_{game_overview['GameId']}.csv\"\n",
    "    with open(LINEUP_FILE, mode=\"r\") as file:\n",
    "        reader = csv.reader(file)\n",
    "        lineup = []\n",
    "        for i, row in enumerate(reader):\n",
    "            if i == 0:\n",
    "                continue\n",
    "            lineup.append(row)\n",
    "    return lineup\n",
    "\n",
    "# Generate the PCSP lineup stats for the game base on the template file \"game_template.pcsp\"\n",
    "# Replace the first lines of the below code with the lineup stats\n",
    "def generate_pcsp_lineup(team_type):\n",
    "    lineup = read_lineup(team_type)\n",
    "    positions = [\"PG\", \"SG\", \"SF\", \"PF\", \"C\"]\n",
    "    stats = \"\"\n",
    "    for position in positions:\n",
    "        for player in lineup:\n",
    "            if player[0] == position:\n",
    "                stats += f\"#define player{position}Pass {int(float(player[1]) * 100)};\\n\"\n",
    "                stats += f\"#define player{position}Score {int(float(player[2]) * 100)};\\n\"\n",
    "\n",
    "    PCSP_TEMPLATE = \"game_template.pcsp\"\n",
    "    PCSP_FILE = f\"game_{game_overview['GameId']}_{team_type.lower()}.pcsp\"\n",
    "    with open(PCSP_TEMPLATE, mode=\"r\") as file:\n",
    "        template = file.read()\n",
    "    with open(PCSP_FILE, mode=\"w\") as file:\n",
    "        # Replace the first 10 lines of the template with the lineup stats\n",
    "        # Remove the first 10 lines of the template\n",
    "        template = template.split(\"\\n\")[10:]\n",
    "        file.write(stats)\n",
    "        file.write(\"\\n\")\n",
    "        file.write(\"\\n\".join(template))\n",
    "\n",
    "\n",
    "generate_pcsp_lineup(\"Home\")\n",
    "generate_pcsp_lineup(\"Away\")"
   ]
  },
  {
   "cell_type": "code",
   "execution_count": null,
   "metadata": {
    "metadata": {}
   },
   "outputs": [],
   "source": []
  }
 ],
 "metadata": {
  "kernelspec": {
   "display_name": "Python 3",
   "language": "python",
   "name": "python3"
  },
  "language_info": {
   "codemirror_mode": {
    "name": "ipython",
    "version": 3
   },
   "file_extension": ".py",
   "mimetype": "text/x-python",
   "name": "python",
   "nbconvert_exporter": "python",
   "pygments_lexer": "ipython3",
   "version": "3.12.3"
  }
 },
 "nbformat": 4,
 "nbformat_minor": 2
}
