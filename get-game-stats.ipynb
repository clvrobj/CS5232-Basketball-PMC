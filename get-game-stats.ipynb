{
 "cells": [
  {
   "cell_type": "markdown",
   "metadata": {},
   "source": [
    "# To run this file, install Python packages: \n",
    "- requests\n",
    "- tabulate"
   ]
  },
  {
   "cell_type": "code",
   "execution_count": 9,
   "metadata": {},
   "outputs": [
    {
     "name": "stdout",
     "output_type": "stream",
     "text": [
      "{\n",
      "  \"GameId\": \"0041700233\",\n",
      "  \"Date\": \"2018-05-04\",\n",
      "  \"HomeTeamId\": \"1610612740\",\n",
      "  \"AwayTeamId\": \"1610612744\",\n",
      "  \"HomePoints\": 119,\n",
      "  \"AwayPoints\": 100,\n",
      "  \"HomePossessions\": 103,\n",
      "  \"AwayPossessions\": 102,\n",
      "  \"HomeTeamAbbreviation\": \"NOP\",\n",
      "  \"AwayTeamAbbreviation\": \"GSW\"\n",
      "}\n",
      "Extracting game stats for game: 0041700233 ...\n",
      "Done\n"
     ]
    }
   ],
   "source": [
    "import json\n",
    "import requests\n",
    "from random import randrange\n",
    "from tabulate import tabulate\n",
    "\n",
    "# Year range\n",
    "start_year = 2010\n",
    "end_year = 2020\n",
    "year = randrange(start_year, end_year)\n",
    "game_season = str(year) + \"-\" + str((year + 1) % 100).rjust(2, \"0\")\n",
    "\n",
    "# Game type\n",
    "game_types = [\"Regular Season\", \"Playoffs\"]\n",
    "game_type = game_types[randrange(len(game_types))]\n",
    "\n",
    "# Game data\n",
    "players_url = \"https://api.pbpstats.com/get-games/nba\"\n",
    "games_params = {\n",
    "    \"Season\": game_season,\n",
    "    \"SeasonType\": game_type\n",
    "}\n",
    "response = requests.get(players_url, params=games_params)\n",
    "response_json = response.json()[\"results\"]\n",
    "\n",
    "# Random a game\n",
    "game_index = randrange(len(response_json))\n",
    "game_overview = response_json[game_index]\n",
    "print(json.dumps(game_overview, indent=2))\n",
    "\n",
    "# Get game stats from the overview\n",
    "print(\"Extracting game stats for game:\", game_overview[\"GameId\"], \"...\")\n",
    "players_url = \"https://api.pbpstats.com/get-game-stats\"\n",
    "games_params = {\n",
    "    \"GameId\": game_overview[\"GameId\"],\n",
    "    \"Type\": \"Player\" # options are Player, Lineup and LineupOpponent\n",
    "}\n",
    "response = requests.get(players_url, params=games_params)\n",
    "game_stats = response.json()['stats']\n",
    "print(\"Done\")"
   ]
  },
  {
   "cell_type": "markdown",
   "metadata": {},
   "source": [
    "## Some util functions:"
   ]
  },
  {
   "cell_type": "code",
   "execution_count": 10,
   "metadata": {},
   "outputs": [],
   "source": [
    "# Stats to get\n",
    "key_general = [\"GamesPlayed\"]\n",
    "key_attack_stats = [\"Fg2Pct\", \"Fg3Pct\", \"FtPoints\", \"FTA\", \"Turnovers\"]\n",
    "key_defend_stats = [\"Steals\", \"Blocks\", \"Fouls\"]\n",
    "key_all_stats = key_general + key_attack_stats + key_defend_stats\n",
    "\n",
    "\n",
    "# Uitil functions\n",
    "def get_team_players(game_stats, team_type):\n",
    "    team = []\n",
    "    if team_type == \"Away\":\n",
    "        stats = game_stats[\"Away\"][\"FullGame\"]\n",
    "    elif team_type == \"Home\":\n",
    "        stats = game_stats[\"Home\"][\"FullGame\"]\n",
    "\n",
    "    for entity in stats:\n",
    "        if entity[\"Name\"] != \"Team\":\n",
    "            team.append([entity[\"Name\"], entity[\"Minutes\"]])\n",
    "    team.sort(key=lambda lst: lst[1], reverse=True)\n",
    "    return team\n",
    "\n",
    "\n",
    "def get_player_ids(team, team_type):\n",
    "    if team_type == \"Away\":\n",
    "        team_id = game_overview[\"AwayTeamId\"]\n",
    "    elif team_type == \"Home\":\n",
    "        team_id = game_overview[\"HomeTeamId\"]\n",
    "\n",
    "    players_url = \"https://api.pbpstats.com/get-team-players-for-season\"\n",
    "    players_params = {\n",
    "        \"Season\": game_season,\n",
    "        \"SeasonType\": game_type,\n",
    "        \"TeamId\": team_id\n",
    "    }\n",
    "    players_response = requests.get(players_url, params=players_params)\n",
    "    players = players_response.json()[\"players\"]\n",
    "\n",
    "    # \"team\" is list of list, each sub list starts with player name\n",
    "    for player in team:\n",
    "        for id, name in players.items():\n",
    "            if name == player[0]:\n",
    "                player.append(id)\n",
    "\n",
    "\n",
    "def get_player_stats_by_id(id):\n",
    "    url = \"https://api.pbpstats.com/get-all-season-stats/nba\"\n",
    "    params = {\n",
    "        \"EntityType\": \"Player\",\n",
    "        \"EntityId\": id\n",
    "    }\n",
    "    player_stats = requests.get(url, params=params).json()\n",
    "\n",
    "    for json_object in player_stats[\"results\"][game_type]:\n",
    "        for key, value in json_object.items():\n",
    "            if key == \"Season\" and value == game_season:\n",
    "                return json_object\n",
    "\n",
    "\n",
    "def get_team_stats(team):\n",
    "    for player in team:\n",
    "        all_stats = get_player_stats_by_id(player[2])\n",
    "        for key in key_all_stats:\n",
    "            if key in all_stats:\n",
    "                player.append(all_stats[key])\n",
    "            else:\n",
    "                player.append(None)\n",
    "\n",
    "\n",
    "# Print messages\n",
    "col_names = [\"Name\", \"Minutes\", \"ID\"] + key_all_stats\n",
    "def print_table(team):\n",
    "    print(tabulate(team, headers=col_names, tablefmt=\"grid\"))"
   ]
  },
  {
   "cell_type": "markdown",
   "metadata": {},
   "source": [
    "## Away team stats:"
   ]
  },
  {
   "cell_type": "code",
   "execution_count": 11,
   "metadata": {},
   "outputs": [
    {
     "name": "stdout",
     "output_type": "stream",
     "text": [
      "Away team players:\n",
      "+------------------+-----------+---------+---------------+----------+----------+------------+-------+-------------+----------+----------+---------+\n",
      "| Name             | Minutes   |      ID |   GamesPlayed |   Fg2Pct |   Fg3Pct |   FtPoints |   FTA |   Turnovers |   Steals |   Blocks |   Fouls |\n",
      "+==================+===========+=========+===============+==========+==========+============+=======+=============+==========+==========+=========+\n",
      "| Draymond Green   | 36:25     |  203110 |            21 | 0.548673 | 0.265823 |         39 |    49 |          63 |       41 |       31 |      75 |\n",
      "+------------------+-----------+---------+---------------+----------+----------+------------+-------+-------------+----------+----------+---------+\n",
      "| Klay Thompson    | 36:22     |  202691 |            21 | 0.497297 | 0.426752 |         27 |    31 |          31 |       16 |        6 |      48 |\n",
      "+------------------+-----------+---------+---------------+----------+----------+------------+-------+-------------+----------+----------+---------+\n",
      "| Kevin Durant     | 35:15     |  201142 |            21 | 0.555556 | 0.34058  |        137 |   152 |          50 |       15 |       25 |      43 |\n",
      "+------------------+-----------+---------+---------------+----------+----------+------------+-------+-------------+----------+----------+---------+\n",
      "| Stephen Curry    | 28:33     |  201939 |            15 | 0.514085 | 0.395062 |         45 |    47 |          43 |       26 |       11 |      38 |\n",
      "+------------------+-----------+---------+---------------+----------+----------+------------+-------+-------------+----------+----------+---------+\n",
      "| Andre Iguodala   | 27:41     |    2738 |            15 | 0.583333 | 0.378378 |         24 |    34 |          14 |       21 |        7 |      29 |\n",
      "+------------------+-----------+---------+---------------+----------+----------+------------+-------+-------------+----------+----------+---------+\n",
      "| Kevon Looney     | 22:03     | 1626172 |            21 | 0.557143 |          |          8 |    21 |           8 |       14 |        8 |      50 |\n",
      "+------------------+-----------+---------+---------------+----------+----------+------------+-------+-------------+----------+----------+---------+\n",
      "| Shaun Livingston | 16:49     |    2733 |            21 | 0.541284 |          |         22 |    25 |          16 |        7 |        1 |      33 |\n",
      "+------------------+-----------+---------+---------------+----------+----------+------------+-------+-------------+----------+----------+---------+\n",
      "| JaVale McGee     | 09:10     |  201580 |            13 | 0.684211 |          |          6 |     9 |           5 |        3 |       11 |      20 |\n",
      "+------------------+-----------+---------+---------------+----------+----------+------------+-------+-------------+----------+----------+---------+\n",
      "| David West       | 07:46     |    2561 |            18 | 0.604651 | 0.5      |          4 |     4 |          10 |        6 |       10 |      23 |\n",
      "+------------------+-----------+---------+---------------+----------+----------+------------+-------+-------------+----------+----------+---------+\n",
      "| Quinn Cook       | 04:59     | 1626188 |            17 | 0.638889 | 0.225806 |         14 |    17 |           5 |        4 |        2 |      13 |\n",
      "+------------------+-----------+---------+---------------+----------+----------+------------+-------+-------------+----------+----------+---------+\n",
      "| Jordan Bell      | 04:59     | 1628395 |            17 | 0.548387 |          |          7 |    14 |           6 |        6 |        9 |      18 |\n",
      "+------------------+-----------+---------+---------------+----------+----------+------------+-------+-------------+----------+----------+---------+\n",
      "| Nick Young       | 04:59     |  201156 |            20 | 0.333333 | 0.297872 |          6 |     8 |           2 |        1 |          |      18 |\n",
      "+------------------+-----------+---------+---------------+----------+----------+------------+-------+-------------+----------+----------+---------+\n",
      "| Zaza Pachulia    | 04:59     |    2585 |             7 | 0.571429 |          |          9 |    12 |           3 |        3 |        1 |       1 |\n",
      "+------------------+-----------+---------+---------------+----------+----------+------------+-------+-------------+----------+----------+---------+\n"
     ]
    }
   ],
   "source": [
    "# Away team stats\n",
    "print(\"Away team players:\")\n",
    "away_team = get_team_players(game_stats, \"Away\")\n",
    "get_player_ids(away_team, \"Away\")\n",
    "get_team_stats(away_team)\n",
    "print_table(away_team)"
   ]
  },
  {
   "cell_type": "markdown",
   "metadata": {},
   "source": [
    "## Home team stats:"
   ]
  },
  {
   "cell_type": "code",
   "execution_count": 12,
   "metadata": {},
   "outputs": [
    {
     "name": "stdout",
     "output_type": "stream",
     "text": [
      "Home team players:\n",
      "+-----------------+-----------+---------+---------------+----------+----------+------------+-------+-------------+----------+----------+---------+\n",
      "| Name            | Minutes   |      ID |   GamesPlayed |   Fg2Pct |   Fg3Pct |   FtPoints |   FTA |   Turnovers |   Steals |   Blocks |   Fouls |\n",
      "+=================+===========+=========+===============+==========+==========+============+=======+=============+==========+==========+=========+\n",
      "| Anthony Davis   | 40:35     |  203076 |             9 | 0.549451 | 0.272727 |         53 |    64 |          23 |       18 |       21 |      30 |\n",
      "+-----------------+-----------+---------+---------------+----------+----------+------------+-------+-------------+----------+----------+---------+\n",
      "| Rajon Rondo     | 37:14     |  200765 |             9 | 0.410959 | 0.421053 |          9 |    14 |          33 |       13 |        2 |      20 |\n",
      "+-----------------+-----------+---------+---------------+----------+----------+------------+-------+-------------+----------+----------+---------+\n",
      "| E'Twaun Moore   | 35:43     |  202734 |             9 | 0.507937 | 0.36     |         11 |    16 |          11 |        6 |        1 |      20 |\n",
      "+-----------------+-----------+---------+---------------+----------+----------+------------+-------+-------------+----------+----------+---------+\n",
      "| Jrue Holiday    | 35:37     |  201950 |             9 | 0.6      | 0.32     |         21 |    30 |          23 |       10 |        5 |      22 |\n",
      "+-----------------+-----------+---------+---------------+----------+----------+------------+-------+-------------+----------+----------+---------+\n",
      "| Nikola Mirotic  | 33:31     |  202703 |             9 | 0.529412 | 0.431373 |         15 |    19 |          10 |       10 |       12 |      24 |\n",
      "+-----------------+-----------+---------+---------------+----------+----------+------------+-------+-------------+----------+----------+---------+\n",
      "| Ian Clark       | 21:32     |  203546 |             9 | 0.473684 | 0.357143 |          4 |     4 |           9 |        8 |        2 |      20 |\n",
      "+-----------------+-----------+---------+---------------+----------+----------+------------+-------+-------------+----------+----------+---------+\n",
      "| Solomon Hill    | 14:20     |  203524 |             9 | 0.333333 | 0.375    |          9 |    10 |           6 |        1 |        1 |      17 |\n",
      "+-----------------+-----------+---------+---------------+----------+----------+------------+-------+-------------+----------+----------+---------+\n",
      "| Darius Miller   | 14:18     |  203121 |             9 | 0.5      | 0.375    |          6 |     6 |           6 |        5 |          |      10 |\n",
      "+-----------------+-----------+---------+---------------+----------+----------+------------+-------+-------------+----------+----------+---------+\n",
      "| Cheick Diallo   | 03:35     | 1627767 |             7 | 0.416667 |          |            |       |           1 |        1 |        1 |       9 |\n",
      "+-----------------+-----------+---------+---------------+----------+----------+------------+-------+-------------+----------+----------+---------+\n",
      "| DeAndre Liggins | 03:35     |  202732 |             3 |          |          |          1 |     2 |           2 |          |          |         |\n",
      "+-----------------+-----------+---------+---------------+----------+----------+------------+-------+-------------+----------+----------+---------+\n"
     ]
    }
   ],
   "source": [
    "# Home team stats\n",
    "print(\"Home team players:\")\n",
    "home_team = get_team_players(game_stats, \"Home\")\n",
    "get_player_ids(home_team, \"Home\")\n",
    "get_team_stats(home_team)\n",
    "print_table(home_team)"
   ]
  }
 ],
 "metadata": {
  "kernelspec": {
   "display_name": "Python 3",
   "language": "python",
   "name": "python3"
  },
  "language_info": {
   "codemirror_mode": {
    "name": "ipython",
    "version": 3
   },
   "file_extension": ".py",
   "mimetype": "text/x-python",
   "name": "python",
   "nbconvert_exporter": "python",
   "pygments_lexer": "ipython3",
   "version": "3.11.8"
  }
 },
 "nbformat": 4,
 "nbformat_minor": 2
}
