{
 "cells": [
  {
   "cell_type": "code",
   "execution_count": 6,
   "metadata": {},
   "outputs": [],
   "source": [
    "import csv\n",
    "\n",
    "# Read the lineup from the CSV file\n",
    "def read_lineup(team_type, gameId):\n",
    "    LINEUP_FILE = f\"data/lineup_{team_type.lower()}_{gameId}.csv\"\n",
    "    with open(LINEUP_FILE, mode=\"r\") as file:\n",
    "        reader = csv.reader(file)\n",
    "        lineup = []\n",
    "        for i, row in enumerate(reader):\n",
    "            if i == 0:\n",
    "                continue\n",
    "            lineup.append(row)\n",
    "    return lineup\n",
    "\n",
    "# Generate the PCSP lineup stats for the game base on the template file \"game_template.pcsp\"\n",
    "# Replace the first lines of the below code with the lineup stats\n",
    "def generate_pcsp_lineup(team_type, gameId):\n",
    "    lineup = read_lineup(team_type, gameId)\n",
    "    positions = [\"PG\", \"SG\", \"SF\", \"PF\", \"C\"]\n",
    "    stats = \"\"\n",
    "    for position in positions:\n",
    "        for player in lineup:\n",
    "            if player[0] == position:\n",
    "                stats += f\"#define player{position}Pass {int(float(player[1]) * 100)};\\n\"\n",
    "                stats += f\"#define player{position}Score {int(float(player[2]) * 100)};\\n\"\n",
    "\n",
    "    PCSP_TEMPLATE = \"game_template.pcsp\"\n",
    "    PCSP_FILE = f\"pscp_files/game_{gameId}_{team_type.lower()}_new.pcsp\"\n",
    "    with open(PCSP_TEMPLATE, mode=\"r\") as file:\n",
    "        template = file.read()\n",
    "    with open(PCSP_FILE, mode=\"w\") as file:\n",
    "        # Replace the first 10 lines of the template with the lineup stats\n",
    "        # Remove the first 10 lines of the template\n",
    "        template = template.split(\"\\n\")[10:]\n",
    "        file.write(stats)\n",
    "        file.write(\"\\n\")\n",
    "        file.write(\"\\n\".join(template))\n",
    "\n",
    "\n"
   ]
  },
  {
   "cell_type": "code",
   "execution_count": 7,
   "metadata": {},
   "outputs": [],
   "source": [
    "game_ids = ['0041500125',\n",
    "'0021701068',\n",
    "'0021200993',\n",
    "'0041400204',\n",
    "'0041300172',\n",
    "'0041300147',\n",
    "'0021800606',\n",
    "'0021400543',\n",
    "'0021500006',\n",
    "'0041400311']\n",
    "for game_id in game_ids:\n",
    "    generate_pcsp_lineup(\"Home\", game_id)\n",
    "    generate_pcsp_lineup(\"Away\", game_id)"
   ]
  }
 ],
 "metadata": {
  "kernelspec": {
   "display_name": "Python 3",
   "language": "python",
   "name": "python3"
  },
  "language_info": {
   "codemirror_mode": {
    "name": "ipython",
    "version": 3
   },
   "file_extension": ".py",
   "mimetype": "text/x-python",
   "name": "python",
   "nbconvert_exporter": "python",
   "pygments_lexer": "ipython3",
   "version": "3.11.2"
  }
 },
 "nbformat": 4,
 "nbformat_minor": 2
}
