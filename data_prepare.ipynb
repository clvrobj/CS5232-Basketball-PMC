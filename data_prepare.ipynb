{
 "cells": [
  {
   "cell_type": "markdown",
   "metadata": {},
   "source": [
    "# Data Preparation and Cleaning"
   ]
  },
  {
   "cell_type": "code",
   "execution_count": 1,
   "metadata": {},
   "outputs": [
    {
     "name": "stdout",
     "output_type": "stream",
     "text": [
      "Requirement already satisfied: numpy in /Users/chizhang/proj/chi_playground/CS5232/.venv/lib/python3.9/site-packages (1.26.4)\n",
      "Requirement already satisfied: pandas in /Users/chizhang/proj/chi_playground/CS5232/.venv/lib/python3.9/site-packages (2.2.1)\n",
      "Requirement already satisfied: python-dateutil>=2.8.2 in /Users/chizhang/proj/chi_playground/CS5232/.venv/lib/python3.9/site-packages (from pandas) (2.9.0.post0)\n",
      "Requirement already satisfied: tzdata>=2022.7 in /Users/chizhang/proj/chi_playground/CS5232/.venv/lib/python3.9/site-packages (from pandas) (2024.1)\n",
      "Requirement already satisfied: pytz>=2020.1 in /Users/chizhang/proj/chi_playground/CS5232/.venv/lib/python3.9/site-packages (from pandas) (2024.1)\n",
      "Requirement already satisfied: six>=1.5 in /Users/chizhang/proj/chi_playground/CS5232/.venv/lib/python3.9/site-packages (from python-dateutil>=2.8.2->pandas) (1.16.0)\n",
      "\n",
      "\u001b[1m[\u001b[0m\u001b[34;49mnotice\u001b[0m\u001b[1;39;49m]\u001b[0m\u001b[39;49m A new release of pip is available: \u001b[0m\u001b[31;49m23.0.1\u001b[0m\u001b[39;49m -> \u001b[0m\u001b[32;49m24.0\u001b[0m\n",
      "\u001b[1m[\u001b[0m\u001b[34;49mnotice\u001b[0m\u001b[1;39;49m]\u001b[0m\u001b[39;49m To update, run: \u001b[0m\u001b[32;49mpip install --upgrade pip\u001b[0m\n",
      "Note: you may need to restart the kernel to use updated packages.\n",
      "Requirement already satisfied: nba_api in /Users/chizhang/proj/chi_playground/CS5232/.venv/lib/python3.9/site-packages (1.4.1)\n",
      "Requirement already satisfied: requests<3.0,>=2.31 in /Users/chizhang/proj/chi_playground/CS5232/.venv/lib/python3.9/site-packages (from nba_api) (2.31.0)\n",
      "Requirement already satisfied: certifi<2024.0.0,>=2023.7.22 in /Users/chizhang/proj/chi_playground/CS5232/.venv/lib/python3.9/site-packages (from nba_api) (2023.11.17)\n",
      "Requirement already satisfied: numpy<2.0.0,>=1.22.2 in /Users/chizhang/proj/chi_playground/CS5232/.venv/lib/python3.9/site-packages (from nba_api) (1.26.4)\n",
      "Requirement already satisfied: charset-normalizer<4,>=2 in /Users/chizhang/proj/chi_playground/CS5232/.venv/lib/python3.9/site-packages (from requests<3.0,>=2.31->nba_api) (3.3.2)\n",
      "Requirement already satisfied: idna<4,>=2.5 in /Users/chizhang/proj/chi_playground/CS5232/.venv/lib/python3.9/site-packages (from requests<3.0,>=2.31->nba_api) (3.6)\n",
      "Requirement already satisfied: urllib3<3,>=1.21.1 in /Users/chizhang/proj/chi_playground/CS5232/.venv/lib/python3.9/site-packages (from requests<3.0,>=2.31->nba_api) (2.2.1)\n",
      "\n",
      "\u001b[1m[\u001b[0m\u001b[34;49mnotice\u001b[0m\u001b[1;39;49m]\u001b[0m\u001b[39;49m A new release of pip is available: \u001b[0m\u001b[31;49m23.0.1\u001b[0m\u001b[39;49m -> \u001b[0m\u001b[32;49m24.0\u001b[0m\n",
      "\u001b[1m[\u001b[0m\u001b[34;49mnotice\u001b[0m\u001b[1;39;49m]\u001b[0m\u001b[39;49m To update, run: \u001b[0m\u001b[32;49mpip install --upgrade pip\u001b[0m\n",
      "Note: you may need to restart the kernel to use updated packages.\n"
     ]
    }
   ],
   "source": [
    "# Install packages\n",
    "\n",
    "%pip install numpy pandas\n",
    "%pip install nba_api"
   ]
  },
  {
   "cell_type": "code",
   "execution_count": 2,
   "metadata": {},
   "outputs": [],
   "source": [
    "# import necessary packages\n",
    "import sys\n",
    "import numpy as np\n",
    "import pandas as pd"
   ]
  },
  {
   "cell_type": "code",
   "execution_count": 3,
   "metadata": {},
   "outputs": [],
   "source": [
    "# Test nba api\n",
    "from nba_api.stats.endpoints import playercareerstats\n",
    "\n",
    "# Nikola Jokić\n",
    "career = playercareerstats.PlayerCareerStats(player_id='203999') \n",
    "# pandas data frames (optional: pip install pandas)\n",
    "df = career.get_data_frames()[0]\n",
    "df.to_csv('203999.csv', index=False)\n",
    "\n",
    "# json\n",
    "# career.get_json()\n",
    "\n",
    "# # dictionary\n",
    "# career.get_dict()"
   ]
  },
  {
   "cell_type": "code",
   "execution_count": null,
   "metadata": {},
   "outputs": [],
   "source": []
  }
 ],
 "metadata": {
  "kernelspec": {
   "display_name": ".venv",
   "language": "python",
   "name": "python3"
  },
  "language_info": {
   "codemirror_mode": {
    "name": "ipython",
    "version": 3
   },
   "file_extension": ".py",
   "mimetype": "text/x-python",
   "name": "python",
   "nbconvert_exporter": "python",
   "pygments_lexer": "ipython3",
   "version": "3.9.18"
  }
 },
 "nbformat": 4,
 "nbformat_minor": 2
}
